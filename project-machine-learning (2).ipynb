{
 "cells": [
  {
   "cell_type": "code",
   "execution_count": 1,
   "id": "59b94e2f",
   "metadata": {
    "execution": {
     "iopub.execute_input": "2021-12-29T13:48:29.149098Z",
     "iopub.status.busy": "2021-12-29T13:48:29.148249Z",
     "iopub.status.idle": "2021-12-29T13:48:32.302337Z",
     "shell.execute_reply": "2021-12-29T13:48:32.301769Z",
     "shell.execute_reply.started": "2021-12-21T14:00:39.724196Z"
    },
    "id": "31il2N_OsiYc",
    "outputId": "63d642e1-fdcf-4e0c-e417-2359a84492da",
    "papermill": {
     "duration": 3.179763,
     "end_time": "2021-12-29T13:48:32.302518",
     "exception": false,
     "start_time": "2021-12-29T13:48:29.122755",
     "status": "completed"
    },
    "tags": []
   },
   "outputs": [],
   "source": [
    "# from google.colab import drive\n",
    "# drive.mount('/content/drive')\n",
    "import os\n",
    "import pandas as pd\n",
    "from skimage import io, transform\n",
    "import numpy as np\n",
    "import matplotlib.pyplot as plt\n",
    "from torch.utils.data import Dataset, DataLoader\n",
    "from torchvision import transforms, utils,datasets\n",
    "import torch\n",
    "import torch.nn as nn\n",
    "import torch.nn.functional as F\n",
    "import torch.optim as optim\n",
    "import torchvision.transforms as transforms\n",
    "from sklearn import preprocessing\n",
    "from sklearn.model_selection import train_test_split\n",
    "from torchvision.io import read_image\n"
   ]
  },
  {
   "cell_type": "code",
   "execution_count": 2,
   "id": "c9a2b045",
   "metadata": {
    "execution": {
     "iopub.execute_input": "2021-12-29T13:48:32.330089Z",
     "iopub.status.busy": "2021-12-29T13:48:32.329269Z",
     "iopub.status.idle": "2021-12-29T13:48:32.442490Z",
     "shell.execute_reply": "2021-12-29T13:48:32.442959Z",
     "shell.execute_reply.started": "2021-12-21T14:00:41.126267Z"
    },
    "id": "ORmu3RSvwfKw",
    "papermill": {
     "duration": 0.128041,
     "end_time": "2021-12-29T13:48:32.443117",
     "exception": false,
     "start_time": "2021-12-29T13:48:32.315076",
     "status": "completed"
    },
    "tags": []
   },
   "outputs": [],
   "source": [
    "# import zipfile\n",
    "# with zipfile.ZipFile('/content/drive/MyDrive/Machine Learning/archive (1).zip', 'r') as zip_ref:\n",
    "#     zip_ref.extractall()\n",
    "import gc\n",
    "\n",
    "gc.collect()\n",
    "\n",
    "torch.cuda.empty_cache()"
   ]
  },
  {
   "cell_type": "code",
   "execution_count": null,
   "id": "af06f575",
   "metadata": {
    "id": "2RQamZzyw-Ai",
    "papermill": {
     "duration": 0.011621,
     "end_time": "2021-12-29T13:48:32.467014",
     "exception": false,
     "start_time": "2021-12-29T13:48:32.455393",
     "status": "completed"
    },
    "tags": []
   },
   "outputs": [],
   "source": []
  },
  {
   "cell_type": "code",
   "execution_count": 3,
   "id": "843642b1",
   "metadata": {
    "execution": {
     "iopub.execute_input": "2021-12-29T13:48:32.495047Z",
     "iopub.status.busy": "2021-12-29T13:48:32.494459Z",
     "iopub.status.idle": "2021-12-29T13:48:46.797716Z",
     "shell.execute_reply": "2021-12-29T13:48:46.797211Z",
     "shell.execute_reply.started": "2021-12-21T14:00:47.565061Z"
    },
    "papermill": {
     "duration": 14.319073,
     "end_time": "2021-12-29T13:48:46.797878",
     "exception": false,
     "start_time": "2021-12-29T13:48:32.478805",
     "status": "completed"
    },
    "tags": []
   },
   "outputs": [],
   "source": [
    "transform = transforms.Compose(\n",
    "    [transforms.ToTensor(),\n",
    "     transforms.Resize(224)])\n",
    "trainset = datasets.ImageFolder(root='../input/fruit-dataset/fruits-360_dataset/fruits-360/Training', transform=transform)\n",
    "testset = datasets.ImageFolder(root='../input/fruit-dataset/fruits-360_dataset/fruits-360/Test', transform=transform)"
   ]
  },
  {
   "cell_type": "code",
   "execution_count": 4,
   "id": "20a4b4dc",
   "metadata": {
    "execution": {
     "iopub.execute_input": "2021-12-29T13:48:46.828022Z",
     "iopub.status.busy": "2021-12-29T13:48:46.826426Z",
     "iopub.status.idle": "2021-12-29T13:48:46.828669Z",
     "shell.execute_reply": "2021-12-29T13:48:46.829074Z",
     "shell.execute_reply.started": "2021-12-21T14:00:48.930478Z"
    },
    "papermill": {
     "duration": 0.018784,
     "end_time": "2021-12-29T13:48:46.829198",
     "exception": false,
     "start_time": "2021-12-29T13:48:46.810414",
     "status": "completed"
    },
    "tags": []
   },
   "outputs": [],
   "source": [
    "# train_dataset, test_dataset = torch.utils.data.random_split(totalset, (train_count, test_count))"
   ]
  },
  {
   "cell_type": "code",
   "execution_count": 5,
   "id": "9e4e1031",
   "metadata": {
    "execution": {
     "iopub.execute_input": "2021-12-29T13:48:46.908904Z",
     "iopub.status.busy": "2021-12-29T13:48:46.908002Z",
     "iopub.status.idle": "2021-12-29T13:48:46.910753Z",
     "shell.execute_reply": "2021-12-29T13:48:46.910207Z",
     "shell.execute_reply.started": "2021-12-21T14:00:49.474193Z"
    },
    "papermill": {
     "duration": 0.069425,
     "end_time": "2021-12-29T13:48:46.910890",
     "exception": false,
     "start_time": "2021-12-29T13:48:46.841465",
     "status": "completed"
    },
    "tags": []
   },
   "outputs": [],
   "source": [
    "batch_SIZE = 64\n",
    "train_dataset_loader = torch.utils.data.DataLoader(trainset, batch_size=batch_SIZE, shuffle=True, num_workers=1)\n",
    "# valid_dataset_loader = torch.utils.data.DataLoader(valid_dataset, batch_size=batch_SIZE, shuffle=True, num_workers=1) \n",
    "test_dataset_loader  = torch.utils.data.DataLoader(testset , batch_size=batch_SIZE, shuffle=False,num_workers=1)\n",
    "DEVICE = torch.device('cuda:0' if torch.cuda.is_available() else 'cpu')\n",
    "# dataloaders = {'train': train_dataset_loader, 'test': test_dataset_loader}"
   ]
  },
  {
   "cell_type": "code",
   "execution_count": 6,
   "id": "7228f9ec",
   "metadata": {
    "execution": {
     "iopub.execute_input": "2021-12-29T13:48:46.939958Z",
     "iopub.status.busy": "2021-12-29T13:48:46.939139Z",
     "iopub.status.idle": "2021-12-29T13:48:46.941144Z",
     "shell.execute_reply": "2021-12-29T13:48:46.941646Z",
     "shell.execute_reply.started": "2021-12-21T14:00:51.60274Z"
    },
    "papermill": {
     "duration": 0.018276,
     "end_time": "2021-12-29T13:48:46.941788",
     "exception": false,
     "start_time": "2021-12-29T13:48:46.923512",
     "status": "completed"
    },
    "tags": []
   },
   "outputs": [],
   "source": [
    "# dataiter = iter(train_dataset_loader)\n",
    "\n",
    "# images, labels = dataiter.next()\n",
    "\n",
    "# # show images\n"
   ]
  },
  {
   "cell_type": "code",
   "execution_count": 7,
   "id": "dd2a022b",
   "metadata": {
    "execution": {
     "iopub.execute_input": "2021-12-29T13:48:46.988205Z",
     "iopub.status.busy": "2021-12-29T13:48:46.987667Z",
     "iopub.status.idle": "2021-12-29T13:48:48.130967Z",
     "shell.execute_reply": "2021-12-29T13:48:48.130381Z",
     "shell.execute_reply.started": "2021-12-21T14:00:51.964581Z"
    },
    "id": "au4KpbRzncNJ",
    "papermill": {
     "duration": 1.176758,
     "end_time": "2021-12-29T13:48:48.131118",
     "exception": false,
     "start_time": "2021-12-29T13:48:46.954360",
     "status": "completed"
    },
    "tags": []
   },
   "outputs": [],
   "source": [
    "\n",
    "import torch.nn as nn\n",
    "import torch.nn.functional as F\n",
    "\n",
    "\n",
    "class Net(nn.Module):\n",
    "    def __init__(self):\n",
    "        super(Net,self).__init__()\n",
    "        # 1\n",
    "        self.conv1a = nn.Sequential(\n",
    "            nn.Conv2d(3,64,3,padding=1),nn.BatchNorm2d(64),nn.ReLU()\n",
    "        )\n",
    "        self.conv1b = nn.Sequential(\n",
    "            nn.Conv2d(64,64,3,padding=1),nn.MaxPool2d(2,2),nn.BatchNorm2d(64),nn.ReLU()\n",
    "        )\n",
    "        # 2\n",
    "        self.conv2a = nn.Sequential(\n",
    "            nn.Conv2d(64,128,3,padding=1),nn.BatchNorm2d(128),nn.ReLU()\n",
    "        )\n",
    "        self.conv2b = nn.Sequential(\n",
    "            nn.Conv2d(128,128,3,padding=1),nn.MaxPool2d(2,2),nn.BatchNorm2d(128),nn.ReLU()\n",
    "        )\n",
    "        # 3\n",
    "        self.conv3a = nn.Sequential(\n",
    "            nn.Conv2d(128,256,3,padding=1),nn.BatchNorm2d(256),nn.ReLU()\n",
    "        )\n",
    "        self.conv3b = nn.Sequential(\n",
    "                nn.Conv2d(256,256,3,padding=1),nn.MaxPool2d(2,2),nn.BatchNorm2d(256),nn.ReLU()\n",
    "        )\n",
    "        # 4\n",
    "        self.conv4a = nn.Sequential(\n",
    "            nn.Conv2d(256,512,3,padding=1),nn.BatchNorm2d(512),nn.ReLU()\n",
    "        )\n",
    "        self.conv4b = nn.Sequential(\n",
    "            nn.Conv2d(512,512,3,padding=1),nn.BatchNorm2d(512),nn.ReLU()\n",
    "        )\n",
    "        self.conv4c = nn.Sequential(\n",
    "            nn.Conv2d(512,512,3,padding=1),nn.MaxPool2d(2,2),nn.BatchNorm2d(512),nn.ReLU()\n",
    "        )\n",
    "        # 5\n",
    "        self.conv5a = nn.Sequential(\n",
    "            nn.Conv2d(512,512,3,padding=1),nn.BatchNorm2d(512),nn.ReLU()\n",
    "        )\n",
    "        self.conv5b = nn.Sequential(\n",
    "            nn.Conv2d(512,512,3,padding=1),nn.BatchNorm2d(512),nn.ReLU()\n",
    "        )\n",
    "        self.conv5c = nn.Sequential(\n",
    "            nn.Conv2d(512,512,3,padding=1),nn.MaxPool2d(2,2),nn.BatchNorm2d(512),nn.ReLU()\n",
    "        )\n",
    "        self.fc1 =  nn.Sequential(\n",
    "            nn.Linear(25088,4096),nn.ReLU()\n",
    "        )\n",
    "        self.fc2 =  nn.Sequential(\n",
    "            nn.Linear(4096,4096),nn.ReLU()\n",
    "        )\n",
    "        self.fc3 =  nn.Sequential(\n",
    "            nn.Linear(4096,131),nn.ReLU()\n",
    "        )\n",
    "        \n",
    "    def forward(self, x):\n",
    "        #print(x.shape)\n",
    "        out = self.conv1a(x)\n",
    "        out = self.conv1b(out)\n",
    "        #print(out.shape)\n",
    "        out = self.conv2a(out)\n",
    "        out = self.conv2b(out)\n",
    "        #print(out.shape)\n",
    "        out = self.conv3a(out)\n",
    "        out = self.conv3b(out)\n",
    "        #print(out.shape)\n",
    "        out = self.conv4a(out)\n",
    "        out = self.conv4b(out)\n",
    "        out = self.conv4c(out)\n",
    "        out = self.conv5a(out)\n",
    "        out = self.conv5b(out)\n",
    "        out = self.conv5c(out)\n",
    "        out = torch.flatten(out, 1)\n",
    "          # print(out.shape)\n",
    "          # out = out.view(out.size(0), -1)\n",
    "        out = self.fc1(out)\n",
    "        out = self.fc2(out)\n",
    "        out = self.fc3(out)\n",
    "        return out\n",
    "net = Net()"
   ]
  },
  {
   "cell_type": "code",
   "execution_count": 8,
   "id": "89e42bbf",
   "metadata": {
    "execution": {
     "iopub.execute_input": "2021-12-29T13:48:48.158612Z",
     "iopub.status.busy": "2021-12-29T13:48:48.158081Z",
     "iopub.status.idle": "2021-12-29T13:48:48.161745Z",
     "shell.execute_reply": "2021-12-29T13:48:48.161298Z"
    },
    "id": "Eaeo4bsUcgZ6",
    "outputId": "90b818db-7e85-4100-90bf-b6aa6e72306d",
    "papermill": {
     "duration": 0.018455,
     "end_time": "2021-12-29T13:48:48.161856",
     "exception": false,
     "start_time": "2021-12-29T13:48:48.143401",
     "status": "completed"
    },
    "tags": []
   },
   "outputs": [],
   "source": [
    "# print(type(trainset))\n",
    "# print(len(totalset))"
   ]
  },
  {
   "cell_type": "code",
   "execution_count": 9,
   "id": "43742d37",
   "metadata": {
    "execution": {
     "iopub.execute_input": "2021-12-29T13:48:48.188674Z",
     "iopub.status.busy": "2021-12-29T13:48:48.188000Z",
     "iopub.status.idle": "2021-12-29T13:48:48.190155Z",
     "shell.execute_reply": "2021-12-29T13:48:48.190667Z"
    },
    "id": "oJuFMyJfkr2Q",
    "outputId": "02c073be-d26b-4433-a5a9-5259b4c616f4",
    "papermill": {
     "duration": 0.016931,
     "end_time": "2021-12-29T13:48:48.190804",
     "exception": false,
     "start_time": "2021-12-29T13:48:48.173873",
     "status": "completed"
    },
    "tags": []
   },
   "outputs": [],
   "source": [
    "# print(train_count)\n",
    "# print(test_count)\n",
    "# # print(valid_count)"
   ]
  },
  {
   "cell_type": "code",
   "execution_count": 10,
   "id": "732ace3f",
   "metadata": {
    "execution": {
     "iopub.execute_input": "2021-12-29T13:48:48.230201Z",
     "iopub.status.busy": "2021-12-29T13:48:48.229419Z",
     "iopub.status.idle": "2021-12-29T13:48:51.115046Z",
     "shell.execute_reply": "2021-12-29T13:48:51.114539Z",
     "shell.execute_reply.started": "2021-12-21T14:01:33.112619Z"
    },
    "id": "E2Y3GaFt8qd_",
    "papermill": {
     "duration": 2.905838,
     "end_time": "2021-12-29T13:48:51.115195",
     "exception": false,
     "start_time": "2021-12-29T13:48:48.209357",
     "status": "completed"
    },
    "tags": []
   },
   "outputs": [],
   "source": [
    "# net.state_dict()\n",
    "net = net.to(DEVICE)"
   ]
  },
  {
   "cell_type": "code",
   "execution_count": 11,
   "id": "6e2f8bd7",
   "metadata": {
    "execution": {
     "iopub.execute_input": "2021-12-29T13:48:51.145054Z",
     "iopub.status.busy": "2021-12-29T13:48:51.143524Z",
     "iopub.status.idle": "2021-12-29T13:48:51.145702Z",
     "shell.execute_reply": "2021-12-29T13:48:51.146115Z",
     "shell.execute_reply.started": "2021-12-21T14:01:34.968512Z"
    },
    "id": "23ltPpattM1C",
    "papermill": {
     "duration": 0.019042,
     "end_time": "2021-12-29T13:48:51.146254",
     "exception": false,
     "start_time": "2021-12-29T13:48:51.127212",
     "status": "completed"
    },
    "tags": []
   },
   "outputs": [],
   "source": [
    "import torch.optim as optim\n",
    "\n",
    "criterion = nn.CrossEntropyLoss()\n",
    "optimizer = optim.SGD(net.parameters(), lr=0.001, momentum=0.9)"
   ]
  },
  {
   "cell_type": "code",
   "execution_count": 12,
   "id": "3e9f67eb",
   "metadata": {
    "execution": {
     "iopub.execute_input": "2021-12-29T13:48:51.174080Z",
     "iopub.status.busy": "2021-12-29T13:48:51.173578Z",
     "iopub.status.idle": "2021-12-29T13:48:51.178550Z",
     "shell.execute_reply": "2021-12-29T13:48:51.178101Z",
     "shell.execute_reply.started": "2021-12-21T14:01:38.321456Z"
    },
    "id": "nuITi0YyDGzE",
    "outputId": "851e09f1-711a-4f4b-be3d-da57b3977075",
    "papermill": {
     "duration": 0.020787,
     "end_time": "2021-12-29T13:48:51.178663",
     "exception": false,
     "start_time": "2021-12-29T13:48:51.157876",
     "status": "completed"
    },
    "tags": []
   },
   "outputs": [
    {
     "name": "stdout",
     "output_type": "stream",
     "text": [
      "{'state': {}, 'param_groups': [{'lr': 0.001, 'momentum': 0.9, 'dampening': 0, 'weight_decay': 0, 'nesterov': False, 'params': [0, 1, 2, 3, 4, 5, 6, 7, 8, 9, 10, 11, 12, 13, 14, 15, 16, 17, 18, 19, 20, 21, 22, 23, 24, 25, 26, 27, 28, 29, 30, 31, 32, 33, 34, 35, 36, 37, 38, 39, 40, 41, 42, 43, 44, 45, 46, 47, 48, 49, 50, 51, 52, 53]}]}\n"
     ]
    }
   ],
   "source": [
    "print(optimizer.state_dict())"
   ]
  },
  {
   "cell_type": "code",
   "execution_count": 13,
   "id": "257db190",
   "metadata": {
    "execution": {
     "iopub.execute_input": "2021-12-29T13:48:51.216795Z",
     "iopub.status.busy": "2021-12-29T13:48:51.216208Z",
     "iopub.status.idle": "2021-12-29T15:57:04.669948Z",
     "shell.execute_reply": "2021-12-29T15:57:04.670429Z"
    },
    "id": "uJKPDh0dDMl5",
    "outputId": "da7dfd82-f687-4ab9-85ac-e0dbf9174378",
    "papermill": {
     "duration": 7693.479388,
     "end_time": "2021-12-29T15:57:04.670614",
     "exception": false,
     "start_time": "2021-12-29T13:48:51.191226",
     "status": "completed"
    },
    "tags": []
   },
   "outputs": [
    {
     "name": "stdout",
     "output_type": "stream",
     "text": [
      "Runnig first time\n",
      "Epoch [1/15], Step [100/15], Loss: 4.1957\n",
      "Epoch [1/15], Step [200/15], Loss: 3.1792\n",
      "Epoch [1/15], Step [300/15], Loss: 1.9105\n",
      "Epoch [1/15], Step [400/15], Loss: 1.7224\n",
      "Epoch [1/15], Step [500/15], Loss: 0.9606\n",
      "Epoch [1/15], Step [600/15], Loss: 1.2916\n",
      "Epoch [1/15], Step [700/15], Loss: 1.0073\n",
      "Epoch [1/15], Step [800/15], Loss: 1.0134\n",
      "Epoch [1/15], Step [900/15], Loss: 0.8167\n",
      "Epoch [1/15], Step [1000/15], Loss: 1.1627\n",
      "Epoch ->  0\n",
      "Epoch [2/15], Step [100/15], Loss: 0.7787\n",
      "Epoch [2/15], Step [200/15], Loss: 1.2376\n",
      "Epoch [2/15], Step [300/15], Loss: 0.7063\n",
      "Epoch [2/15], Step [400/15], Loss: 0.7797\n",
      "Epoch [2/15], Step [500/15], Loss: 0.8520\n",
      "Epoch [2/15], Step [600/15], Loss: 1.3778\n",
      "Epoch [2/15], Step [700/15], Loss: 0.9457\n",
      "Epoch [2/15], Step [800/15], Loss: 1.1512\n",
      "Epoch [2/15], Step [900/15], Loss: 0.7687\n",
      "Epoch [2/15], Step [1000/15], Loss: 1.0726\n",
      "Epoch ->  1\n",
      "Epoch [3/15], Step [100/15], Loss: 0.6943\n",
      "Epoch [3/15], Step [200/15], Loss: 1.0705\n",
      "Epoch [3/15], Step [300/15], Loss: 0.7647\n",
      "Epoch [3/15], Step [400/15], Loss: 0.9949\n",
      "Epoch [3/15], Step [500/15], Loss: 0.4714\n",
      "Epoch [3/15], Step [600/15], Loss: 1.2214\n",
      "Epoch [3/15], Step [700/15], Loss: 0.3850\n",
      "Epoch [3/15], Step [800/15], Loss: 1.1580\n",
      "Epoch [3/15], Step [900/15], Loss: 1.4505\n",
      "Epoch [3/15], Step [1000/15], Loss: 0.9190\n",
      "Epoch ->  2\n",
      "Epoch [4/15], Step [100/15], Loss: 0.9942\n",
      "Epoch [4/15], Step [200/15], Loss: 1.0690\n",
      "Epoch [4/15], Step [300/15], Loss: 1.2971\n",
      "Epoch [4/15], Step [400/15], Loss: 0.3831\n",
      "Epoch [4/15], Step [500/15], Loss: 1.0695\n",
      "Epoch [4/15], Step [600/15], Loss: 0.6880\n",
      "Epoch [4/15], Step [700/15], Loss: 0.6872\n",
      "Epoch [4/15], Step [800/15], Loss: 0.3923\n",
      "Epoch [4/15], Step [900/15], Loss: 0.6115\n",
      "Epoch [4/15], Step [1000/15], Loss: 0.9155\n",
      "Epoch ->  3\n",
      "Epoch [5/15], Step [100/15], Loss: 0.9926\n",
      "Epoch [5/15], Step [200/15], Loss: 1.1464\n",
      "Epoch [5/15], Step [300/15], Loss: 0.8391\n",
      "Epoch [5/15], Step [400/15], Loss: 0.9919\n",
      "Epoch [5/15], Step [500/15], Loss: 0.7638\n",
      "Epoch [5/15], Step [600/15], Loss: 0.9152\n",
      "Epoch [5/15], Step [700/15], Loss: 0.7635\n",
      "Epoch [5/15], Step [800/15], Loss: 0.6108\n",
      "Epoch [5/15], Step [900/15], Loss: 0.9217\n",
      "Epoch [5/15], Step [1000/15], Loss: 0.4595\n",
      "Epoch ->  4\n",
      "Epoch [6/15], Step [100/15], Loss: 0.9927\n",
      "Epoch [6/15], Step [200/15], Loss: 0.9995\n",
      "Epoch [6/15], Step [300/15], Loss: 0.6867\n",
      "Epoch [6/15], Step [400/15], Loss: 1.1441\n",
      "Epoch [6/15], Step [500/15], Loss: 0.7629\n",
      "Epoch [6/15], Step [600/15], Loss: 0.6115\n",
      "Epoch [6/15], Step [700/15], Loss: 1.2955\n",
      "Epoch [6/15], Step [800/15], Loss: 1.2193\n",
      "Epoch [6/15], Step [900/15], Loss: 1.0677\n",
      "Epoch [6/15], Step [1000/15], Loss: 1.0681\n",
      "Epoch ->  5\n",
      "Epoch [7/15], Step [100/15], Loss: 0.8391\n",
      "Epoch [7/15], Step [200/15], Loss: 0.9152\n",
      "Epoch [7/15], Step [300/15], Loss: 1.0697\n",
      "Epoch [7/15], Step [400/15], Loss: 0.6867\n",
      "Epoch [7/15], Step [500/15], Loss: 1.2962\n",
      "Epoch [7/15], Step [600/15], Loss: 1.1432\n",
      "Epoch [7/15], Step [700/15], Loss: 0.9912\n",
      "Epoch [7/15], Step [800/15], Loss: 0.9912\n",
      "Epoch [7/15], Step [900/15], Loss: 1.0674\n",
      "Epoch [7/15], Step [1000/15], Loss: 0.9152\n",
      "Epoch ->  6\n",
      "Epoch [8/15], Step [100/15], Loss: 0.7626\n",
      "Epoch [8/15], Step [200/15], Loss: 1.0671\n",
      "Epoch [8/15], Step [300/15], Loss: 0.6105\n",
      "Epoch [8/15], Step [400/15], Loss: 0.9910\n",
      "Epoch [8/15], Step [500/15], Loss: 0.7628\n",
      "Epoch [8/15], Step [600/15], Loss: 1.2219\n",
      "Epoch [8/15], Step [700/15], Loss: 0.7631\n",
      "Epoch [8/15], Step [800/15], Loss: 1.0668\n",
      "Epoch [8/15], Step [900/15], Loss: 1.2194\n",
      "Epoch [8/15], Step [1000/15], Loss: 0.9907\n",
      "Epoch ->  7\n",
      "Epoch [9/15], Step [100/15], Loss: 0.8446\n",
      "Epoch [9/15], Step [200/15], Loss: 0.6868\n",
      "Epoch [9/15], Step [300/15], Loss: 0.9146\n",
      "Epoch [9/15], Step [400/15], Loss: 0.8385\n",
      "Epoch [9/15], Step [500/15], Loss: 0.9145\n",
      "Epoch [9/15], Step [600/15], Loss: 1.3714\n",
      "Epoch [9/15], Step [700/15], Loss: 0.9910\n",
      "Epoch [9/15], Step [800/15], Loss: 0.8386\n",
      "Epoch [9/15], Step [900/15], Loss: 1.0670\n",
      "Epoch [9/15], Step [1000/15], Loss: 0.9908\n",
      "Epoch ->  8\n",
      "Epoch [10/15], Step [100/15], Loss: 0.8429\n",
      "Epoch [10/15], Step [200/15], Loss: 1.2191\n",
      "Epoch [10/15], Step [300/15], Loss: 1.2952\n",
      "Epoch [10/15], Step [400/15], Loss: 0.9908\n",
      "Epoch [10/15], Step [500/15], Loss: 0.9907\n",
      "Epoch [10/15], Step [600/15], Loss: 1.2957\n",
      "Epoch [10/15], Step [700/15], Loss: 1.1434\n",
      "Epoch [10/15], Step [800/15], Loss: 1.3714\n",
      "Epoch [10/15], Step [900/15], Loss: 1.0669\n",
      "Epoch [10/15], Step [1000/15], Loss: 0.9146\n",
      "Epoch ->  9\n",
      "Epoch [11/15], Step [100/15], Loss: 0.9912\n",
      "Epoch [11/15], Step [200/15], Loss: 1.1431\n",
      "Epoch [11/15], Step [300/15], Loss: 0.8383\n",
      "Epoch [11/15], Step [400/15], Loss: 0.6100\n",
      "Epoch [11/15], Step [500/15], Loss: 1.4478\n",
      "Epoch [11/15], Step [600/15], Loss: 0.6864\n",
      "Epoch [11/15], Step [700/15], Loss: 1.1429\n",
      "Epoch [11/15], Step [800/15], Loss: 0.6862\n",
      "Epoch [11/15], Step [900/15], Loss: 0.9147\n",
      "Epoch [11/15], Step [1000/15], Loss: 1.1429\n",
      "Epoch ->  10\n",
      "Epoch [12/15], Step [100/15], Loss: 0.9152\n",
      "Epoch [12/15], Step [200/15], Loss: 1.1434\n",
      "Epoch [12/15], Step [300/15], Loss: 0.9908\n",
      "Epoch [12/15], Step [400/15], Loss: 0.8385\n",
      "Epoch [12/15], Step [500/15], Loss: 1.2951\n",
      "Epoch [12/15], Step [600/15], Loss: 1.0667\n",
      "Epoch [12/15], Step [700/15], Loss: 0.6859\n",
      "Epoch [12/15], Step [800/15], Loss: 0.9145\n",
      "Epoch [12/15], Step [900/15], Loss: 0.6865\n",
      "Epoch [12/15], Step [1000/15], Loss: 0.8383\n",
      "Epoch ->  11\n",
      "Epoch [13/15], Step [100/15], Loss: 1.3714\n",
      "Epoch [13/15], Step [200/15], Loss: 0.9906\n",
      "Epoch [13/15], Step [300/15], Loss: 1.2952\n",
      "Epoch [13/15], Step [400/15], Loss: 1.0667\n",
      "Epoch [13/15], Step [500/15], Loss: 0.5339\n",
      "Epoch [13/15], Step [600/15], Loss: 0.6100\n",
      "Epoch [13/15], Step [700/15], Loss: 0.9144\n",
      "Epoch [13/15], Step [800/15], Loss: 0.9906\n",
      "Epoch [13/15], Step [900/15], Loss: 1.1431\n",
      "Epoch [13/15], Step [1000/15], Loss: 1.1432\n",
      "Epoch ->  12\n",
      "Epoch [14/15], Step [100/15], Loss: 0.9145\n",
      "Epoch [14/15], Step [200/15], Loss: 1.0666\n",
      "Epoch [14/15], Step [300/15], Loss: 0.6861\n",
      "Epoch [14/15], Step [400/15], Loss: 0.7623\n",
      "Epoch [14/15], Step [500/15], Loss: 1.1428\n",
      "Epoch [14/15], Step [600/15], Loss: 0.9144\n",
      "Epoch [14/15], Step [700/15], Loss: 1.0669\n",
      "Epoch [14/15], Step [800/15], Loss: 0.6098\n",
      "Epoch [14/15], Step [900/15], Loss: 0.6883\n",
      "Epoch [14/15], Step [1000/15], Loss: 1.2191\n",
      "Epoch ->  13\n",
      "Epoch [15/15], Step [100/15], Loss: 1.3716\n",
      "Epoch [15/15], Step [200/15], Loss: 0.8384\n",
      "Epoch [15/15], Step [300/15], Loss: 0.9908\n",
      "Epoch [15/15], Step [400/15], Loss: 0.9143\n",
      "Epoch [15/15], Step [500/15], Loss: 0.9151\n",
      "Epoch [15/15], Step [600/15], Loss: 0.5337\n",
      "Epoch [15/15], Step [700/15], Loss: 0.7621\n",
      "Epoch [15/15], Step [800/15], Loss: 0.9144\n",
      "Epoch [15/15], Step [900/15], Loss: 1.0666\n",
      "Epoch [15/15], Step [1000/15], Loss: 0.6858\n",
      "Epoch ->  14\n",
      "Finished Training\n"
     ]
    }
   ],
   "source": [
    "startepoch=0\n",
    "if os.path.exists('./checkpoint.pth'):\n",
    "  print(\"Loading from existing model weights..\")\n",
    "  state= torch.load(\"./checkpoint.pth\")\n",
    "  if state :\n",
    "    startepoch=state[\"epoch\"]\n",
    "    net.load_state_dict(state['model_state_dict'])\n",
    "    optimizer.load_state_dict(state['optimizer_state_dict'])\n",
    "else:\n",
    "    print(\"Runnig first time\")\n",
    "num_epochs = 15\n",
    "for epoch in range(startepoch,num_epochs):\n",
    "  running_loss = 0.0\n",
    "  for i, data in enumerate(train_dataset_loader):\n",
    "    inputs, labels = data\n",
    "    inputs = inputs.to(DEVICE)\n",
    "    labels = labels.to(DEVICE)\n",
    "    optimizer.zero_grad()\n",
    "    outputs = net(inputs)\n",
    "#     print(outputs)\n",
    "    loss = criterion(outputs, labels)\n",
    "    loss.backward()\n",
    "    optimizer.step()\n",
    "    running_loss += loss.item()\n",
    "    if (i+1) % 100 == 0:\n",
    "            print ('Epoch [{}/{}], Step [{}/{}], Loss: {:.4f}' \n",
    "            .format(epoch+1, num_epochs, i+1, num_epochs, loss.item())) # 2 para num_epoch= total_step\n",
    "  print('Epoch -> ',epoch)\n",
    "  torch.save({\n",
    "            'epoch': epoch,\n",
    "            'model_state_dict': net.state_dict(),\n",
    "            'optimizer_state_dict': optimizer.state_dict(),\n",
    "            'loss': loss,\n",
    "            }, \"./checkpoint.pth\")\n",
    "\n",
    "print('Finished Training')\n",
    "\n",
    "    "
   ]
  },
  {
   "cell_type": "code",
   "execution_count": 14,
   "id": "48c24f51",
   "metadata": {
    "execution": {
     "iopub.execute_input": "2021-12-29T15:57:04.785064Z",
     "iopub.status.busy": "2021-12-29T15:57:04.783302Z",
     "iopub.status.idle": "2021-12-29T15:57:04.786958Z",
     "shell.execute_reply": "2021-12-29T15:57:04.786492Z"
    },
    "id": "o0mho96F-Aiu",
    "papermill": {
     "duration": 0.062181,
     "end_time": "2021-12-29T15:57:04.787075",
     "exception": false,
     "start_time": "2021-12-29T15:57:04.724894",
     "status": "completed"
    },
    "tags": []
   },
   "outputs": [
    {
     "name": "stdout",
     "output_type": "stream",
     "text": [
      "cuda:0\n"
     ]
    }
   ],
   "source": [
    "print(DEVICE)"
   ]
  },
  {
   "cell_type": "code",
   "execution_count": 15,
   "id": "155c8d57",
   "metadata": {
    "execution": {
     "iopub.execute_input": "2021-12-29T15:57:04.904985Z",
     "iopub.status.busy": "2021-12-29T15:57:04.904281Z",
     "iopub.status.idle": "2021-12-29T15:57:04.907380Z",
     "shell.execute_reply": "2021-12-29T15:57:04.907799Z"
    },
    "id": "YKy65xbpmV-d",
    "papermill": {
     "duration": 0.0662,
     "end_time": "2021-12-29T15:57:04.907913",
     "exception": false,
     "start_time": "2021-12-29T15:57:04.841713",
     "status": "completed"
    },
    "tags": []
   },
   "outputs": [
    {
     "data": {
      "text/plain": [
       "Net(\n",
       "  (conv1a): Sequential(\n",
       "    (0): Conv2d(3, 64, kernel_size=(3, 3), stride=(1, 1), padding=(1, 1))\n",
       "    (1): BatchNorm2d(64, eps=1e-05, momentum=0.1, affine=True, track_running_stats=True)\n",
       "    (2): ReLU()\n",
       "  )\n",
       "  (conv1b): Sequential(\n",
       "    (0): Conv2d(64, 64, kernel_size=(3, 3), stride=(1, 1), padding=(1, 1))\n",
       "    (1): MaxPool2d(kernel_size=2, stride=2, padding=0, dilation=1, ceil_mode=False)\n",
       "    (2): BatchNorm2d(64, eps=1e-05, momentum=0.1, affine=True, track_running_stats=True)\n",
       "    (3): ReLU()\n",
       "  )\n",
       "  (conv2a): Sequential(\n",
       "    (0): Conv2d(64, 128, kernel_size=(3, 3), stride=(1, 1), padding=(1, 1))\n",
       "    (1): BatchNorm2d(128, eps=1e-05, momentum=0.1, affine=True, track_running_stats=True)\n",
       "    (2): ReLU()\n",
       "  )\n",
       "  (conv2b): Sequential(\n",
       "    (0): Conv2d(128, 128, kernel_size=(3, 3), stride=(1, 1), padding=(1, 1))\n",
       "    (1): MaxPool2d(kernel_size=2, stride=2, padding=0, dilation=1, ceil_mode=False)\n",
       "    (2): BatchNorm2d(128, eps=1e-05, momentum=0.1, affine=True, track_running_stats=True)\n",
       "    (3): ReLU()\n",
       "  )\n",
       "  (conv3a): Sequential(\n",
       "    (0): Conv2d(128, 256, kernel_size=(3, 3), stride=(1, 1), padding=(1, 1))\n",
       "    (1): BatchNorm2d(256, eps=1e-05, momentum=0.1, affine=True, track_running_stats=True)\n",
       "    (2): ReLU()\n",
       "  )\n",
       "  (conv3b): Sequential(\n",
       "    (0): Conv2d(256, 256, kernel_size=(3, 3), stride=(1, 1), padding=(1, 1))\n",
       "    (1): MaxPool2d(kernel_size=2, stride=2, padding=0, dilation=1, ceil_mode=False)\n",
       "    (2): BatchNorm2d(256, eps=1e-05, momentum=0.1, affine=True, track_running_stats=True)\n",
       "    (3): ReLU()\n",
       "  )\n",
       "  (conv4a): Sequential(\n",
       "    (0): Conv2d(256, 512, kernel_size=(3, 3), stride=(1, 1), padding=(1, 1))\n",
       "    (1): BatchNorm2d(512, eps=1e-05, momentum=0.1, affine=True, track_running_stats=True)\n",
       "    (2): ReLU()\n",
       "  )\n",
       "  (conv4b): Sequential(\n",
       "    (0): Conv2d(512, 512, kernel_size=(3, 3), stride=(1, 1), padding=(1, 1))\n",
       "    (1): BatchNorm2d(512, eps=1e-05, momentum=0.1, affine=True, track_running_stats=True)\n",
       "    (2): ReLU()\n",
       "  )\n",
       "  (conv4c): Sequential(\n",
       "    (0): Conv2d(512, 512, kernel_size=(3, 3), stride=(1, 1), padding=(1, 1))\n",
       "    (1): MaxPool2d(kernel_size=2, stride=2, padding=0, dilation=1, ceil_mode=False)\n",
       "    (2): BatchNorm2d(512, eps=1e-05, momentum=0.1, affine=True, track_running_stats=True)\n",
       "    (3): ReLU()\n",
       "  )\n",
       "  (conv5a): Sequential(\n",
       "    (0): Conv2d(512, 512, kernel_size=(3, 3), stride=(1, 1), padding=(1, 1))\n",
       "    (1): BatchNorm2d(512, eps=1e-05, momentum=0.1, affine=True, track_running_stats=True)\n",
       "    (2): ReLU()\n",
       "  )\n",
       "  (conv5b): Sequential(\n",
       "    (0): Conv2d(512, 512, kernel_size=(3, 3), stride=(1, 1), padding=(1, 1))\n",
       "    (1): BatchNorm2d(512, eps=1e-05, momentum=0.1, affine=True, track_running_stats=True)\n",
       "    (2): ReLU()\n",
       "  )\n",
       "  (conv5c): Sequential(\n",
       "    (0): Conv2d(512, 512, kernel_size=(3, 3), stride=(1, 1), padding=(1, 1))\n",
       "    (1): MaxPool2d(kernel_size=2, stride=2, padding=0, dilation=1, ceil_mode=False)\n",
       "    (2): BatchNorm2d(512, eps=1e-05, momentum=0.1, affine=True, track_running_stats=True)\n",
       "    (3): ReLU()\n",
       "  )\n",
       "  (fc1): Sequential(\n",
       "    (0): Linear(in_features=25088, out_features=4096, bias=True)\n",
       "    (1): ReLU()\n",
       "  )\n",
       "  (fc2): Sequential(\n",
       "    (0): Linear(in_features=4096, out_features=4096, bias=True)\n",
       "    (1): ReLU()\n",
       "  )\n",
       "  (fc3): Sequential(\n",
       "    (0): Linear(in_features=4096, out_features=131, bias=True)\n",
       "    (1): ReLU()\n",
       "  )\n",
       ")"
      ]
     },
     "execution_count": 15,
     "metadata": {},
     "output_type": "execute_result"
    }
   ],
   "source": [
    "net.eval()"
   ]
  },
  {
   "cell_type": "code",
   "execution_count": 16,
   "id": "144c349f",
   "metadata": {
    "execution": {
     "iopub.execute_input": "2021-12-29T15:57:05.025394Z",
     "iopub.status.busy": "2021-12-29T15:57:05.024597Z",
     "iopub.status.idle": "2021-12-29T15:59:38.488884Z",
     "shell.execute_reply": "2021-12-29T15:59:38.489296Z"
    },
    "id": "AC0xMzFSuyEy",
    "papermill": {
     "duration": 153.527001,
     "end_time": "2021-12-29T15:59:38.489444",
     "exception": false,
     "start_time": "2021-12-29T15:57:04.962443",
     "status": "completed"
    },
    "tags": []
   },
   "outputs": [
    {
     "name": "stdout",
     "output_type": "stream",
     "text": [
      "Accuracy of the network on the test images: 79 %\n"
     ]
    }
   ],
   "source": [
    "# testing\n",
    "correct = 0\n",
    "total = 0\n",
    "# since we're not training, we don't need to calculate the gradients for our outputs\n",
    "with torch.no_grad():\n",
    "    for data in test_dataset_loader:\n",
    "        images, labels = data\n",
    "        images, labels = images.to(DEVICE), labels.to(DEVICE)\n",
    "        # calculate outputs by running images through the network\n",
    "        outputs = net(images)\n",
    "        # the class with the highest energy is what we choose as prediction\n",
    "        _, predicted = torch.max(outputs.data, 1)\n",
    "        total += labels.size(0)\n",
    "        correct += (predicted == labels).sum().item()\n",
    "\n",
    "print('Accuracy of the network on the test images: %d %%' % (\n",
    "    100 * (correct / total)))"
   ]
  }
 ],
 "metadata": {
  "kernelspec": {
   "display_name": "Python 3",
   "language": "python",
   "name": "python3"
  },
  "language_info": {
   "codemirror_mode": {
    "name": "ipython",
    "version": 3
   },
   "file_extension": ".py",
   "mimetype": "text/x-python",
   "name": "python",
   "nbconvert_exporter": "python",
   "pygments_lexer": "ipython3",
   "version": "3.7.12"
  },
  "papermill": {
   "default_parameters": {},
   "duration": 7880.23983,
   "end_time": "2021-12-29T15:59:41.061692",
   "environment_variables": {},
   "exception": null,
   "input_path": "__notebook__.ipynb",
   "output_path": "__notebook__.ipynb",
   "parameters": {},
   "start_time": "2021-12-29T13:48:20.821862",
   "version": "2.3.3"
  }
 },
 "nbformat": 4,
 "nbformat_minor": 5
}
